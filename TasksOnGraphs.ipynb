{
 "cells": [
  {
   "cell_type": "markdown",
   "id": "bae45e71",
   "metadata": {},
   "source": [
    "### Петли\n",
    "\n",
    "По заданной матрице смежности неориентированного графа определите, содержит ли он петли.\n",
    "\n",
    "__Входные данные__\n",
    "\n",
    "На вход программы поступает число n ( 1≤n≤100 ) – количество вершин графа, а затем n строк по n чисел, каждое из которых равно 0 или 1, – его матрица смежности.\n",
    "\n",
    "__Выходные данные__\n",
    "\n",
    "Выведите  «YES», если граф содержит петли, и «NO» в противном случае.\n",
    "\n",
    "5\\\n",
    "1 1 1 1 0\\\n",
    "1 0 1 1 1\\\n",
    "1 1 0 1 1\\\n",
    "1 1 1 1 1\\\n",
    "0 1 1 1 0\n",
    "\n",
    "YES"
   ]
  },
  {
   "cell_type": "code",
   "execution_count": 9,
   "id": "68b2c19c",
   "metadata": {},
   "outputs": [
    {
     "name": "stdout",
     "output_type": "stream",
     "text": [
      "Writing petli.py\n"
     ]
    }
   ],
   "source": [
    "%%writefile petli.py\n",
    "def hasHinge(matrix):\n",
    "    for i in range(len(matrix)):\n",
    "        if matrix[i][i] == 1:\n",
    "            return True\n",
    "    return False\n",
    "\n",
    "n = int(input())\n",
    "matrix = [[int(x) for x in input().split()] for i in range(n)]\n",
    "print(\"YES\" if hasHinge(matrix) else \"NO\")"
   ]
  },
  {
   "cell_type": "markdown",
   "id": "939bc204",
   "metadata": {},
   "source": [
    "### Подсчет количества ребер неориентированного графа\n",
    "\n",
    "Простой неориентированный граф задан матрицей смежности. Найдите количество ребер в графе.\n",
    "\n",
    "__Входные данные__\\\n",
    "На вход программы поступает число n ( 1≤n≤100 ) – количество вершин в графе, а затем n строк по n чисел, каждое из которых равно 0 или 1, – его матрица смежности.\n",
    "\n",
    "__Выходные данные__\\\n",
    "Выведите одно число – количество ребер заданного графа.\n",
    "\n",
    "5\\\n",
    "0 0 1 0 0 \\\n",
    "0 0 1 0 1 \\\n",
    "1 1 0 0 0 \\\n",
    "0 0 0 0 0 \\\n",
    "0 1 0 0 0 \n",
    "\n",
    "3"
   ]
  },
  {
   "cell_type": "code",
   "execution_count": 12,
   "id": "fea058c5",
   "metadata": {},
   "outputs": [
    {
     "name": "stdout",
     "output_type": "stream",
     "text": [
      "Writing amountOfEdges.py\n"
     ]
    }
   ],
   "source": [
    "%%writefile amountOfEdges.py\n",
    "n = int(input())\n",
    "matrix = [[int(x) for x in input().split()] for i in range(n)]\n",
    "s = 0\n",
    "for i in range(len(matrix)):\n",
    "    for j in range(i, len(matrix)):\n",
    "        s += matrix[i][j]\n",
    "print(s)"
   ]
  },
  {
   "cell_type": "markdown",
   "id": "808b5bf2",
   "metadata": {},
   "source": [
    "### Подсчет количества ребер ориентированного графа\n",
    "\n",
    "Ориентированный граф задан матрицей смежности. Найдите количество ребер в графе.\n",
    "\n",
    "__Входные данные__\\\n",
    "На вход программы поступает число n ( 1≤n≤100 ) – количество вершин в графе, а затем n строк по n чисел, каждое из которых равно 0 или 1, – его матрица смежности.\n",
    "\n",
    "__Выходные данные__\\\n",
    "Выведите одно число – количество ребер заданного графа.\n",
    "\n",
    "5\\\n",
    "0 0 0 0 0 \\\n",
    "0 0 0 0 1 \\\n",
    "1 1 0 0 0 \\\n",
    "0 0 0 0 0 \\\n",
    "0 0 0 0 0 \n",
    "\n",
    "3"
   ]
  },
  {
   "cell_type": "code",
   "execution_count": 16,
   "id": "8b84d41c",
   "metadata": {},
   "outputs": [
    {
     "name": "stdout",
     "output_type": "stream",
     "text": [
      "Overwriting amountOfEdgesOrient.py\n"
     ]
    }
   ],
   "source": [
    "%%writefile amountOfEdgesOrient.py\n",
    "n = int(input())\n",
    "matrix = [[int(x) for x in input().split()] for i in range(n)]\n",
    "s = 0\n",
    "for i in range(len(matrix)):\n",
    "    for j in range(len(matrix)):\n",
    "        s += matrix[i][j]\n",
    "print(s)"
   ]
  },
  {
   "cell_type": "markdown",
   "id": "bb8574c9",
   "metadata": {},
   "source": [
    "### От матрицы смежности к списку ребер, неориентированный вариант\n",
    "\n",
    "Простой неориентированный граф задан матрицей смежности, выведите его представление в виде списка ребер.\n",
    "\n",
    "__Входные данные__\\\n",
    "Входные данные включают число n ( 1≤n≤100 ) – количество вершин в графе, а затем n строк по n чисел, каждое из которых равно 0 или 1, – его матрицу смежности.\n",
    "\n",
    "__Выходные данные__\\\n",
    "Выведите  список ребер заданного графа (в любом порядке).\n",
    "\n",
    "5\\\n",
    "0 0 1 0 0 \\\n",
    "0 0 1 0 1 \\\n",
    "1 1 0 0 0 \\\n",
    "0 0 0 0 0 \\\n",
    "0 1 0 0 0 \n",
    "\n",
    "1 3\\\n",
    "2 3\\\n",
    "2 5"
   ]
  },
  {
   "cell_type": "code",
   "execution_count": 19,
   "id": "856210eb",
   "metadata": {},
   "outputs": [
    {
     "name": "stdout",
     "output_type": "stream",
     "text": [
      "Overwriting edgerepresentation.py\n"
     ]
    }
   ],
   "source": [
    "%%writefile edgerepresentation.py\n",
    "n = int(input())\n",
    "matrix = [[int(x) for x in input().split()] for i in range(n)]\n",
    "for i in range(len(matrix)):\n",
    "    for j in range(i, len(matrix)):\n",
    "        if matrix[i][j]:\n",
    "            print(i + 1, j + 1)"
   ]
  },
  {
   "cell_type": "markdown",
   "id": "8df8e661",
   "metadata": {},
   "source": [
    "### От списка ребер к матрице смежности, неориентированный вариант\n",
    "\n",
    "Простой неориентированный граф задан списком ребер, выведите его представление в виде матрицы смежности.\n",
    "\n",
    "__Входные данные__\\\n",
    "На вход программы поступают числа n ( 1≤n≤100 ) – количество вершин в графе и m ( 1≤m≤n(n−1)/2 ) – количество ребер. Затем следует m пар чисел – ребра графа.\n",
    "\n",
    "__Выходные данные__\\\n",
    "Выведите матрицу смежности заданного графа.\n",
    "\n",
    "5 3\\\n",
    "1 3\\\n",
    "2 3\\\n",
    "2 5\n",
    "\n",
    "0 0 1 0 0 \\\n",
    "0 0 1 0 1 \\\n",
    "1 1 0 0 0 \\\n",
    "0 0 0 0 0 \\\n",
    "0 1 0 0 0 "
   ]
  },
  {
   "cell_type": "code",
   "execution_count": 29,
   "id": "88d24ed4",
   "metadata": {},
   "outputs": [
    {
     "name": "stdout",
     "output_type": "stream",
     "text": [
      "Writing edgestomatrix.py\n"
     ]
    }
   ],
   "source": [
    "%%writefile edgestomatrix.py\n",
    "edges = []\n",
    "n, m = [int(x) for x in input().split()]\n",
    "matrix = [[0] * n for i in range(n)]\n",
    "\n",
    "for _ in range(m):\n",
    "    a = tuple(int(x) for x in input().split())\n",
    "    matrix[a[0] - 1][a[1] - 1] = 1\n",
    "    matrix[a[1] - 1][a[0] - 1] = 1\n",
    "\n",
    "for i in range(n):\n",
    "    for j in range(n - 1):\n",
    "        print(matrix[i][j], end=' ')\n",
    "    print(matrix[i][n - 1])"
   ]
  },
  {
   "cell_type": "markdown",
   "id": "3af1ee15",
   "metadata": {},
   "source": [
    "### От матрицы смежности к списку ребер, ориентированный вариант\n",
    "\n",
    "Ориентированный граф задан матрицей смежности, выведите его представление в виде списка ребер.\n",
    "\n",
    "__Входные данные__\\\n",
    "На вход программы поступает число n(1≤n≤100) – количество вершин  графа, а затем n строк по n чисел, каждое из которых равно 0 или 1, – его матрица смежности.\n",
    "\n",
    "__Выходные данные__\\\n",
    "Выведите список ребер заданного графа.\n",
    "\n",
    "5\\\n",
    "0 0 0 0 0 \\\n",
    "0 0 0 0 1 \\\n",
    "1 1 0 0 0 \\\n",
    "0 0 0 0 0 \\\n",
    "0 0 0 0 0 \n",
    "\n",
    "2 5\\\n",
    "3 1\\\n",
    "3 2"
   ]
  },
  {
   "cell_type": "code",
   "execution_count": 31,
   "id": "67a8896d",
   "metadata": {},
   "outputs": [
    {
     "name": "stdout",
     "output_type": "stream",
     "text": [
      "5\n",
      "0 0 0 0 0\n",
      "0 0 0 0 1\n",
      "1 1 0 0 0\n",
      "0 0 0 0 0\n",
      "0 0 0 0 0\n",
      "2 5\n",
      "3 1\n",
      "3 2\n"
     ]
    }
   ],
   "source": [
    "#%%writefile edgerepresentationOrient.py\n",
    "n = int(input())\n",
    "matrix = [[int(x) for x in input().split()] for i in range(n)]\n",
    "for i in range(len(matrix)):\n",
    "    for j in range(len(matrix)):\n",
    "        if matrix[i][j]:\n",
    "            print(i + 1, j + 1)"
   ]
  },
  {
   "cell_type": "markdown",
   "id": "27192a87",
   "metadata": {},
   "source": [
    "### От списка ребер к матрице смежности, ориентированный вариант\n",
    "\n",
    "Простой ориентированный граф задан списком ребер, выведите его представление в виде матрицы смежности.\n",
    "\n",
    "__Входные данные__\\\n",
    "На вход программы поступают числа n ( 1≤n≤100 ) – количество вершин в графе и m ( 1≤m≤n(n−1) ) – количество ребер. Затем следует m пар чисел – ребра графа.\n",
    "\n",
    "__Выходные данные__\\\n",
    "Выведите матрицу смежности заданного графа.\n",
    "\n",
    "5 3\\\n",
    "1 3\\\n",
    "2 3\\\n",
    "5 2\n",
    "\n",
    "0 0 1 0 0 \\\n",
    "0 0 1 0 0 \\\n",
    "0 0 0 0 0 \\\n",
    "0 0 0 0 0 \\\n",
    "0 1 0 0 0 "
   ]
  },
  {
   "cell_type": "code",
   "execution_count": 32,
   "id": "d1c11a25",
   "metadata": {},
   "outputs": [
    {
     "name": "stdout",
     "output_type": "stream",
     "text": [
      "Writing edgestomatrixOrient.py\n"
     ]
    }
   ],
   "source": [
    "%%writefile edgestomatrixOrient.py\n",
    "edges = []\n",
    "n, m = [int(x) for x in input().split()]\n",
    "matrix = [[0] * n for i in range(n)]\n",
    "\n",
    "for _ in range(m):\n",
    "    a = tuple(int(x) for x in input().split())\n",
    "    matrix[a[0] - 1][a[1] - 1] = 1\n",
    "\n",
    "for i in range(n):\n",
    "    for j in range(n - 1):\n",
    "        print(matrix[i][j], end=' ')\n",
    "    print(matrix[i][n - 1])"
   ]
  },
  {
   "cell_type": "markdown",
   "id": "9c26aeb6",
   "metadata": {},
   "source": [
    "### Обрати меня!\n",
    "\n",
    "Мальчик Вася очень любит разворачивать ориентированные графы. Помогите ему в этом.\n",
    "\n",
    "__Входные данные__\\\n",
    "Во входном файле записано число N (1 ≤ N ≤ 50000) - количество вершин в графе. В следующих N строках записан граф в виде списков смежности: в i-ой строке, в порядке возрастания, записаны номера вершин, в которые идут ребра из i-ой вершины. Нумерация начинается с единицы. Гарантируется, что ребер в графе не более 50000.\n",
    "\n",
    "__Выходные данные__\\\n",
    "Выведите развернутый граф в том же формате, что и исходный.\n",
    "\n",
    "Входные данные:\\\n",
    "4\\\n",
    "2 3\\\n",
    "3\\\n",
    "\\\n",
    "2\n",
    "\n",
    "Результат:\\\n",
    "4\\\n",
    "\\\n",
    "1 4\\\n",
    "1 2\n"
   ]
  },
  {
   "cell_type": "code",
   "execution_count": 36,
   "id": "c801c5a0",
   "metadata": {},
   "outputs": [
    {
     "name": "stdout",
     "output_type": "stream",
     "text": [
      "Writing invertMeOrient.py\n"
     ]
    }
   ],
   "source": [
    "%%writefile invertMeOrient.py\n",
    "n = int(input())\n",
    "edges = [[] for _ in range(n)]\n",
    "for i in range(1, n + 1):\n",
    "    for r in [int(x) for x in input().split()]:\n",
    "        edges[r - 1].append(i)\n",
    "\n",
    "print(n)\n",
    "for edge in edges:\n",
    "    print(' '.join(str(x) for x in edge))"
   ]
  },
  {
   "cell_type": "markdown",
   "id": "3459b61f",
   "metadata": {},
   "source": [
    "### Проверка на наличие параллельных ребер, неориентированный вариант\n",
    "\n",
    "Неориентированный граф задан списком ребер. Проверьте, содержит ли он параллельные ребра.\n",
    "\n",
    "__Входные данные__\\\n",
    "Сначала вводятся  числа n ( 1≤n≤100 ) – количество вершин в графе и m ( 1≤m≤10,000 ) – количество ребер. Затем следует m пар чисел – ребра графа.\n",
    "\n",
    "__Выходные данные__\\\n",
    "Выведите  «YES», если граф содержит параллельные ребра, и «NO» в противном случае.\n",
    "\n",
    "5 3\\\n",
    "1 3\\\n",
    "2 3\\\n",
    "2 5\n",
    "\n",
    "NO"
   ]
  },
  {
   "cell_type": "code",
   "execution_count": 39,
   "id": "3bcbd980",
   "metadata": {},
   "outputs": [
    {
     "name": "stdout",
     "output_type": "stream",
     "text": [
      "Writing parallelEdges.py\n"
     ]
    }
   ],
   "source": [
    "%%writefile parallelEdges.py\n",
    "edges = []\n",
    "n, m = [int(x) for x in input().split()]\n",
    "s = set()\n",
    "for _ in range(m):\n",
    "    a = tuple(sorted(int(x) for x in input().split()))\n",
    "    if a in s:\n",
    "        print('YES')\n",
    "        break\n",
    "    s.add(a)\n",
    "else:\n",
    "    print('NO')"
   ]
  },
  {
   "cell_type": "markdown",
   "id": "88b7405a",
   "metadata": {},
   "source": [
    "### Проверка на наличие параллельных ребер, ориентированный вариант\n",
    "\n",
    "Ориентированный граф задан списком ребер. Проверьте, содержит ли он параллельные ребра.\n",
    "\n",
    "__Входные данные__\\\n",
    "Сначала вводятся числа n ( 1≤n≤100 ) – количество вершин в графе и m ( 1≤m≤10,000 ) – количество ребер. Затем следует m пар чисел – ребра графа.\n",
    "\n",
    "__Выходные данные__\\\n",
    "Выведите  «YES», если граф содержит параллельные ребра, и «NO» в противном случае.\n",
    "\n",
    "5 3\\\n",
    "2 5\\\n",
    "3 1\\\n",
    "3 2\n",
    "\n",
    "NO"
   ]
  },
  {
   "cell_type": "code",
   "execution_count": 40,
   "id": "5c37f5ca",
   "metadata": {},
   "outputs": [
    {
     "name": "stdout",
     "output_type": "stream",
     "text": [
      "Writing parallelEdgesOrient.py\n"
     ]
    }
   ],
   "source": [
    "%%writefile parallelEdgesOrient.py\n",
    "edges = []\n",
    "n, m = [int(x) for x in input().split()]\n",
    "s = set()\n",
    "for _ in range(m):\n",
    "    a = tuple(int(x) for x in input().split())\n",
    "    if a in s:\n",
    "        print('YES')\n",
    "        break\n",
    "    s.add(a)\n",
    "else:\n",
    "    print('NO')"
   ]
  },
  {
   "cell_type": "markdown",
   "id": "4e2a102d",
   "metadata": {},
   "source": [
    "### Степени вершин\n",
    "\n",
    "Неориентированный граф задан матрицей смежности. Найдите степени всех вершин графа.\n",
    "\n",
    "__Входные данные__\\\n",
    "Сначала вводится число n ( 1≤n≤100 ) – количество вершин в графе, а затем n строк по n чисел, каждое из которых равно 0 или 1, – его матрица смежности.\n",
    "\n",
    "__Выходные данные__\\\n",
    "Выведите n чисел – степени вершин графа.\n",
    "\n",
    "5\\\n",
    "0 0 1 0 0 \\\n",
    "0 0 1 0 1 \\\n",
    "1 1 0 0 0 \\\n",
    "0 0 0 0 0 \\\n",
    "0 1 0 0 0 \n",
    "\n",
    "1\\\n",
    "2\\\n",
    "2\\\n",
    "0\\\n",
    "1"
   ]
  },
  {
   "cell_type": "code",
   "execution_count": 43,
   "id": "5fcc7830",
   "metadata": {},
   "outputs": [
    {
     "name": "stdout",
     "output_type": "stream",
     "text": [
      "Writing VertexDegree.py\n"
     ]
    }
   ],
   "source": [
    "%%writefile VertexDegree.py\n",
    "n = int(input())\n",
    "matrix = [[int(x) for x in input().split()] for i in range(n)]\n",
    "\n",
    "for i in range(len(matrix)):\n",
    "    s = 0\n",
    "    for j in range(len(matrix)):\n",
    "        s += matrix[i][j]\n",
    "    print(s)"
   ]
  },
  {
   "cell_type": "markdown",
   "id": "0b48fb25",
   "metadata": {},
   "source": [
    "### Степени вершин по спискам ребер\n",
    "\n",
    "Неориентированный граф задан списком ребер. Найдите степени всех вершин графа.\n",
    "\n",
    "__Входные данные__\\\n",
    "Сначала вводятся числа n ( 1≤n≤100 ) – количество вершин в графе и m ( 1≤m≤n(n−1)/2 ) – количество ребер. Затем следует m пар чисел – ребра графа.\n",
    "\n",
    "__Выходные данные__\\\n",
    "Выведите n чисел – степени вершин графа.\n",
    "\n",
    "5 3\\\n",
    "1 3\\\n",
    "2 3\\\n",
    "2 5\n",
    "\n",
    "1\\\n",
    "2\\\n",
    "2\\\n",
    "0\\\n",
    "1"
   ]
  },
  {
   "cell_type": "code",
   "execution_count": 47,
   "id": "413d455c",
   "metadata": {},
   "outputs": [
    {
     "name": "stdout",
     "output_type": "stream",
     "text": [
      "Writing vertexDegreeList.py\n"
     ]
    }
   ],
   "source": [
    "%%writefile vertexDegreeList.py\n",
    "n, m = [int(x) for x in input().split()]\n",
    "edges = [0] * n\n",
    "for _ in range(m):\n",
    "    a = tuple(int(x) - 1 for x in input().split())\n",
    "    edges[a[0]] += 1\n",
    "    edges[a[1]] += 1\n",
    "\n",
    "for i in edges:\n",
    "    print(i)"
   ]
  },
  {
   "cell_type": "markdown",
   "id": "dcc045d0",
   "metadata": {},
   "source": [
    "### Полустепени вершин\n",
    "\n",
    "Ориентированный граф задан матрицей смежности. Найдите полустепени захода и полустепени исхода всех вершин графа.\n",
    "\n",
    "__Входные данные__\\\n",
    "Сначала вводится число n ( 1≤n≤100 ) – количество вершин в графе, а затем n строк по n чисел, каждое из которых равно 0 или 1, – его матрица смежности.\n",
    "\n",
    "__Выходные данные__\\\n",
    "Выведите  n пар чисел – для каждой вершины сначала выведите полустепень захода и затем полустепень исхода.\n",
    "\n",
    "5\\\n",
    "0 0 0 0 0 \\\n",
    "0 0 0 0 1 \\\n",
    "1 1 0 0 0 \\\n",
    "0 0 0 0 0 \\\n",
    "0 0 0 0 0 \n",
    "\n",
    "1\\\n",
    "0\\\n",
    "1\\\n",
    "1\\\n",
    "0\\\n",
    "2\\\n",
    "0\\\n",
    "0\\\n",
    "1\\\n",
    "0\n"
   ]
  },
  {
   "cell_type": "code",
   "execution_count": 55,
   "id": "489683e5",
   "metadata": {},
   "outputs": [
    {
     "name": "stdout",
     "output_type": "stream",
     "text": [
      "Overwriting HalfDegree.py\n"
     ]
    }
   ],
   "source": [
    "%%writefile HalfDegree.py\n",
    "n = int(input())\n",
    "matrix = [[int(x) for x in input().split()] for i in range(n)]\n",
    "\n",
    "rows = [0] * n\n",
    "cols = [0] * n\n",
    "\n",
    "for i in range(n):\n",
    "    for j in range(n):\n",
    "        if matrix[i][j] == 1:\n",
    "            rows[i] += 1\n",
    "            cols[j] += 1\n",
    "        \n",
    "for i in range(n):\n",
    "    print(cols[i])\n",
    "    print(rows[i])"
   ]
  },
  {
   "cell_type": "markdown",
   "id": "4d6ea1de",
   "metadata": {},
   "source": [
    "### Полустепени вершин по спискам ребер\n",
    "\n",
    "Ориентированный граф задан списком ребер. Найдите степени всех вершин графа.\n",
    "\n",
    "__Входные данные__\\\n",
    "Сначала вводятся числа n ( 1≤n≤100 ) –  количество вершин в графе и m ( 1≤m≤n(n−1) ) – количество ребер. Затем следует m пар чисел – ребра графа.\n",
    "\n",
    "__Выходные данные__\\\n",
    "Выведите n пар чисел – для каждой вершины сначала выведите полустепень захода и затем полустепень исхода.\n",
    "\n",
    "5 3\\\n",
    "2 5\\\n",
    "3 1\\\n",
    "3 2\n",
    "\n",
    "1\\\n",
    "0\\\n",
    "1\\\n",
    "1\\\n",
    "0\\\n",
    "2\\\n",
    "0\\\n",
    "0\\\n",
    "1\\\n",
    "0"
   ]
  },
  {
   "cell_type": "code",
   "execution_count": 57,
   "id": "bdd23ed8",
   "metadata": {},
   "outputs": [
    {
     "name": "stdout",
     "output_type": "stream",
     "text": [
      "5 3\n",
      "2 5\n",
      "3 1\n",
      "3 2\n",
      "1\n",
      "0\n",
      "1\n",
      "1\n",
      "0\n",
      "2\n",
      "0\n",
      "0\n",
      "1\n",
      "0\n"
     ]
    }
   ],
   "source": [
    "%%writefile HalfDegreeList.py\n",
    "n, m = [int(x) for x in input().split()]\n",
    "\n",
    "rows = [0] * n\n",
    "cols = [0] * n\n",
    "\n",
    "for _ in range(m):\n",
    "    a = tuple(int(x) - 1 for x in input().split())\n",
    "    rows[a[0]] += 1\n",
    "    cols[a[1]] += 1\n",
    "        \n",
    "for i in range(n):\n",
    "    print(cols[i])\n",
    "    print(rows[i])"
   ]
  },
  {
   "cell_type": "markdown",
   "id": "a0d258b6",
   "metadata": {},
   "source": [
    "### Истоки и стоки\n",
    "\n",
    "Напомним, что вершина ориентированного графа называется истоком, если в нее не входит ни одно ребро и стоком, если из нее не выходит ни одного ребра.\n",
    "\n",
    "Ориентированный граф задан матрицей смежности. Найдите все вершины графа, которые являются истоками, и все его вершины, которые являются стоками.\n",
    "\n",
    "__Входные данные__\\\n",
    "Сначала вводится число n ( 1≤n≤100 ) – количество вершин в графе, а затем n строк по n чисел, каждое из которых равно 0 или 1, – его матрица смежности.\n",
    "\n",
    "__Выходные данные__\\\n",
    "Вначале выведите k – число истоков в графе и затем k чисел – номера вершин, которые являются истоками, в возрастающем порядке. Затем выведите информацию о стоках в том же порядке.\n",
    "\n",
    "5\\\n",
    "0 0 0 0 0 \\\n",
    "0 0 0 0 1 \\\n",
    "1 1 0 0 0 \\\n",
    "0 0 0 0 0 \\\n",
    "0 0 0 0 0 \n",
    "\n",
    "2\\\n",
    "3\\\n",
    "4\\\n",
    "3\\\n",
    "1\\\n",
    "4\\\n",
    "5"
   ]
  },
  {
   "cell_type": "code",
   "execution_count": 62,
   "id": "e605384e",
   "metadata": {},
   "outputs": [
    {
     "name": "stdout",
     "output_type": "stream",
     "text": [
      "Overwriting HalfDegreeNames.py\n"
     ]
    }
   ],
   "source": [
    "%%writefile HalfDegreeNames.py\n",
    "n = int(input())\n",
    "matrix = [[int(x) for x in input().split()] for i in range(n)]\n",
    "\n",
    "rows = [0] * n\n",
    "cols = [0] * n\n",
    "\n",
    "for i in range(n):\n",
    "    for j in range(n):\n",
    "        if matrix[i][j] == 1:\n",
    "            rows[i] += 1\n",
    "            cols[j] += 1\n",
    "\n",
    "for arr in cols, rows:\n",
    "    num = 0\n",
    "    for i in arr:\n",
    "        if i == 0:\n",
    "            num += 1\n",
    "\n",
    "    print(num)\n",
    "    for i in range(n):\n",
    "        if arr[i] == 0:\n",
    "            print(i + 1)"
   ]
  },
  {
   "cell_type": "markdown",
   "id": "1a3ed8c0",
   "metadata": {},
   "source": [
    "### Регулярный граф\n",
    "Неориентированный граф называется регулярным, если все его вершины имеют одинаковую степень. Для заданного списком ребер графа проверьте, является ли он регулярным.\n",
    "\n",
    "__Входные данные__\\\n",
    "Сначала вводятся числа n ( 1≤n≤100 ) – количество вершин в графе и m ( 0≤m≤n(n−1)/2 ) – количество ребер. Затем следует m пар чисел – ребра графа.\n",
    "\n",
    "__Выходные данные__\\\n",
    "Выведите  «YES», если граф является регулярным, и «NO» в противном случае.\n",
    "\n",
    "5 0\n",
    "\n",
    "YES"
   ]
  },
  {
   "cell_type": "code",
   "execution_count": 65,
   "id": "110b6a41",
   "metadata": {},
   "outputs": [
    {
     "name": "stdout",
     "output_type": "stream",
     "text": [
      "Writing RegularGraphList.py\n"
     ]
    }
   ],
   "source": [
    "%%writefile RegularGraphList.py\n",
    "n, m = [int(x) for x in input().split()]\n",
    "\n",
    "counts = [0] * n\n",
    "\n",
    "for _ in range(m):\n",
    "    a, b = tuple(int(x) - 1 for x in input().split())\n",
    "    counts[a] += 1\n",
    "    counts[b] += 1\n",
    "    \n",
    "for i in range(1, n):\n",
    "    if counts[i] != counts[0]:\n",
    "        print('NO')\n",
    "        break\n",
    "else:\n",
    "    print('YES')"
   ]
  },
  {
   "cell_type": "markdown",
   "id": "a2df1572",
   "metadata": {},
   "source": [
    "### Полный граф\n",
    "Неориентированный граф с кратными рёбрами называется полным, если любая пара его различных вершин соединена хотя бы одним ребром. Для заданного списком ребер графа проверьте, является ли он полным.\n",
    "\n",
    "__Входные данные__\\\n",
    "Сначала вводятся числа n ( 1≤n≤100 ) – количество вершин в графе и m ( 1≤m≤n(n−1)/2 ) – количество ребер. Затем следует m пар чисел – ребра графа.\n",
    "\n",
    "__Выходные данные__\\\n",
    "Выведите  «YES», если граф является полным, и «NO» в противном случае.\n",
    "\n",
    "5 18\\\n",
    "1 2\\\n",
    "1 3\\\n",
    "1 3\\\n",
    "1 4\\\n",
    "1 4\\\n",
    "1 4\\\n",
    "1 5\\\n",
    "1 5\\\n",
    "2 3\\\n",
    "2 4\\\n",
    "2 4\\\n",
    "2 5\\\n",
    "3 4\\\n",
    "3 4\\\n",
    "3 4\\\n",
    "3 5\\\n",
    "3 5\\\n",
    "4 5\n",
    "\n",
    "YES"
   ]
  },
  {
   "cell_type": "code",
   "execution_count": 69,
   "id": "441edb24",
   "metadata": {},
   "outputs": [
    {
     "name": "stdout",
     "output_type": "stream",
     "text": [
      "Overwriting FullGraphList.py\n"
     ]
    }
   ],
   "source": [
    "%%writefile FullGraphList.py\n",
    "n, m = [int(x) for x in input().split()]\n",
    "\n",
    "s = set()\n",
    "\n",
    "for _ in range(m):\n",
    "    s.add(tuple(int(x) - 1 for x in input().split()))\n",
    "    \n",
    "print(\"YES\" if 2 * len(s) == n * (n - 1) else \"NO\")"
   ]
  },
  {
   "cell_type": "markdown",
   "id": "6c43b4f2",
   "metadata": {},
   "source": [
    "Полуполный граф\n",
    "Ориентированный граф называется полуполным, если между любой парой его различных вершин есть хотя бы одно ребро. Для заданного списком ребер графа проверьте, является ли он полуполным.\n",
    "\n",
    "__Входные данные__\\\n",
    "Сначала вводятся числа n ( 1≤n≤100 ) – количество вершин в графе и m ( 1≤m≤n(n−1) ) – количество ребер. Затем следует m пар чисел – ребра графа.\n",
    "\n",
    "__Выходные данные__\\\n",
    "Выведите  «YES», если граф является полуполным, и «NO» в противном случае.\n",
    "\n",
    "5 10\\\n",
    "1 2\\\n",
    "1 3\\\n",
    "1 5\\\n",
    "2 3\\\n",
    "2 5\\\n",
    "3 2\\\n",
    "4 1\\\n",
    "4 3\\\n",
    "4 5\\\n",
    "5 3\n",
    "\n",
    "NO"
   ]
  },
  {
   "cell_type": "code",
   "execution_count": 72,
   "id": "8a7fd38b",
   "metadata": {},
   "outputs": [
    {
     "name": "stdout",
     "output_type": "stream",
     "text": [
      "Writing HalfFullGraphOrient.py\n"
     ]
    }
   ],
   "source": [
    "%%writefile HalfFullGraphOrient.py\n",
    "n, m = [int(x) for x in input().split()]\n",
    "\n",
    "s = set()\n",
    "\n",
    "for _ in range(m):\n",
    "    s.add(tuple(sorted(int(x) - 1 for x in input().split())))\n",
    "    \n",
    "print(\"YES\" if 2 * len(s) == n * (n - 1) else \"NO\")"
   ]
  },
  {
   "cell_type": "markdown",
   "id": "d27dbd83",
   "metadata": {},
   "source": [
    "### Турнир\n",
    "Ориентированный граф называется турниром, если между любой парой его различных вершин существует ровно одно ребро. Для заданного списком ребер графа проверьте, является ли он турниром.\n",
    "\n",
    "__Входные данные__\\\n",
    "Сначала вводятся числа n ( 1≤n≤100 ) – количество вершин в графе и m ( 1≤m≤n(n−1) ) – количество ребер. Затем следует m пар чисел – ребра графа.\n",
    "\n",
    "__Выходные данные__\\\n",
    "Выведите  «YES», если граф является турниром, и «NO» в противном случае.\n",
    "\n",
    "5 10\\\n",
    "1 2\\\n",
    "1 3\\\n",
    "1 5\\\n",
    "2 3\\\n",
    "2 5\\\n",
    "4 1\\\n",
    "4 2\\\n",
    "4 3\\\n",
    "4 5\\\n",
    "5 3\n",
    "\n",
    "YES"
   ]
  },
  {
   "cell_type": "code",
   "execution_count": 74,
   "id": "3da75b74",
   "metadata": {},
   "outputs": [
    {
     "name": "stdout",
     "output_type": "stream",
     "text": [
      "Writing tournierOrient.py\n"
     ]
    }
   ],
   "source": [
    "%%writefile tournierOrient.py\n",
    "n, m = [int(x) for x in input().split()]\n",
    "\n",
    "matrix = [[0] * n for _ in range(n)]\n",
    "\n",
    "for _ in range(m):\n",
    "    a, b = tuple(int(x) - 1 for x in input().split())\n",
    "    matrix[a][b] += 1\n",
    "    matrix[b][a] += 1\n",
    "\n",
    "result = True\n",
    "for i in range(n):\n",
    "    for j in range(i + 1, n):\n",
    "        if matrix[i][j] != 1:\n",
    "            result = False\n",
    "            break\n",
    "    if not result:\n",
    "        break\n",
    "print(\"YES\" if result else \"NO\")"
   ]
  },
  {
   "cell_type": "markdown",
   "id": "3a7f0ee2",
   "metadata": {},
   "source": [
    "### Транзитивность неориентированного графа\n",
    "Напомним, что граф называется транзитивным, если всегда из того, что вершины u и v соединены ребром и вершины v и w соединены ребром следует, что вершины u и w соединены ребром.\n",
    "\n",
    "Проверьте, что заданный неориентированный граф является транзитивным.\n",
    "\n",
    "__Входные данные__\\\n",
    "Сначала вводятся числа n ( 1≤n≤100 ) – количество вершин в графе и m ( 1≤m≤n(n−1)/2 ) – количество ребер. Затем следует m пар чисел – ребра графа.\n",
    "\n",
    "__Выходные данные__\\\n",
    "Выведите  «YES», если граф является транзитивным, и «NO» в противном случае.\n",
    "\n",
    "5 1\\\n",
    "2 5\n",
    "\n",
    "YES"
   ]
  },
  {
   "cell_type": "code",
   "execution_count": 81,
   "id": "cf18869e",
   "metadata": {},
   "outputs": [
    {
     "name": "stdout",
     "output_type": "stream",
     "text": [
      "Writing transitive.py\n"
     ]
    }
   ],
   "source": [
    "%%writefile transitive.py\n",
    "n, m = [int(x) for x in input().split()]\n",
    "\n",
    "edges = [set() for i in range(n)]\n",
    "\n",
    "for _ in range(m):\n",
    "    a, b = tuple(int(x) - 1 for x in input().split())\n",
    "    edges[a].add(b)\n",
    "    edges[b].add(a)\n",
    "\n",
    "result = True\n",
    "for a in range(n):\n",
    "    for b in edges[a]:\n",
    "        if len(edges[b] - edges[a] - set([a])) > 0:\n",
    "            result = False\n",
    "            break\n",
    "    if not result:\n",
    "        break\n",
    "print(\"YES\" if result else \"NO\")"
   ]
  },
  {
   "cell_type": "code",
   "execution_count": 77,
   "id": "b82a341a",
   "metadata": {},
   "outputs": [
    {
     "data": {
      "text/plain": [
       "[set(), {4}, set(), set(), {1}]"
      ]
     },
     "execution_count": 77,
     "metadata": {},
     "output_type": "execute_result"
    }
   ],
   "source": [
    "edges"
   ]
  },
  {
   "cell_type": "markdown",
   "id": "2659d66e",
   "metadata": {},
   "source": [
    "### Транзитивность ориентированного графа\n",
    "Напомним, что ориентированный граф называется транзитивным, если для любых трех различных вершин u, v и w из того, что из u в вершину v ведет ребро и из вершины v в вершину w ведет ребро, следует, что из вершины u в вершину w ведет ребро.\n",
    "\n",
    "Проверьте, что заданный ориентированный граф является транзитивным.\n",
    "\n",
    "__Входные данные__\\\n",
    "Сначала вводится число n ( 1≤n≤100 ) – количество вершин в графе, а затем n строк по n чисел, каждое из которых равно 0 или 1, – его матрица смежности.\n",
    "\n",
    "__Выходные данные__\\\n",
    "Выведите  «YES», если граф является транзитивным, и «NO» в противном случае.\n",
    "\n",
    "5\\\n",
    "0 0 0 0 0 \\\n",
    "0 0 0 0 0 \\\n",
    "0 0 0 0 0 \\\n",
    "0 0 0 0 0 \\\n",
    "0 0 0 0 0 \n",
    "\n",
    "YES"
   ]
  },
  {
   "cell_type": "code",
   "execution_count": 83,
   "id": "5afda65b",
   "metadata": {},
   "outputs": [
    {
     "name": "stdout",
     "output_type": "stream",
     "text": [
      "Writing transitiveOrient.py\n"
     ]
    }
   ],
   "source": [
    "%%writefile transitiveOrient.py\n",
    "n = int(input())\n",
    "matrix = [[int(x) for x in input().split()] for i in range(n)]\n",
    "\n",
    "edges = [set() for i in range(n)]\n",
    "\n",
    "for i in range(n):\n",
    "    for j in range(n):\n",
    "        if matrix[i][j] == 1:\n",
    "            edges[i].add(j)\n",
    "\n",
    "result = True\n",
    "for a in range(n):\n",
    "    for b in edges[a]:\n",
    "        if len(edges[b] - edges[a]) > 0:\n",
    "            result = False\n",
    "            break\n",
    "    if not result:\n",
    "        break\n",
    "print(\"YES\" if result else \"NO\")"
   ]
  },
  {
   "cell_type": "markdown",
   "id": "24b21462",
   "metadata": {},
   "source": [
    "### Обход в глубину\n",
    "Дан неориентированный невзвешенный граф. Для него вам необходимо найти количество вершин, лежащих в одной компоненте связности с данной вершиной (считая эту вершину).\n",
    "\n",
    "__Входные данные__\\\n",
    "В первой строке входных данных содержатся два числа: N и S (1 ≤ N ≤ 100; 1 ≤ S ≤ N), где N – количество вершин графа, а S – заданная вершина. В следующих N строках записано по N чисел – матрица смежности графа, в которой 0 означает отсутствие ребра между вершинами, а 1 – его наличие. Гарантируется, что на главной диагонали матрицы всегда стоят нули.\n",
    "\n",
    "__Выходные данные__\\\n",
    "Выведите одно целое число – искомое количество вершин.\n",
    "\n",
    "3 1\\\n",
    "0 1 1\\\n",
    "1 0 0\\\n",
    "1 0 0\n",
    "\n",
    "3"
   ]
  },
  {
   "cell_type": "code",
   "execution_count": 97,
   "id": "8fde29d6",
   "metadata": {},
   "outputs": [
    {
     "name": "stdout",
     "output_type": "stream",
     "text": [
      "Overwriting deepSearch.py\n"
     ]
    }
   ],
   "source": [
    "%%writefile deepSearch.py\n",
    "n, s = [int(x) for x in input().split()]\n",
    "s -= 1\n",
    "matrix = [[int(x) for x in input().split()] for i in range(n)]\n",
    "\n",
    "def deep(s):\n",
    "    global matrix, result\n",
    "    \n",
    "    for i in range(len(matrix)):\n",
    "        if matrix[s][i] == 1:\n",
    "            if i not in result:\n",
    "                result.add(i)\n",
    "                deep(i)\n",
    "    \n",
    "result = set([s])\n",
    "deep(s)\n",
    "\n",
    "print(len(result))"
   ]
  },
  {
   "cell_type": "markdown",
   "id": "f1f5f070",
   "metadata": {},
   "source": [
    "### Компоненты связности\n",
    "Дан неориентированный невзвешенный граф. Необходимо посчитать количество его компонент связности и вывести их.\n",
    "\n",
    "__Входные данные__\\\n",
    "Во входном файле записано два числа N и M (0 < N ≤ 100000, 0 ≤ M ≤ 100000). В следующих M строках записаны по два числа i и j (1 ≤ i, j ≤ N), которые означают, что вершины i и j соединены ребром.\n",
    "\n",
    "__Выходные данные__\\\n",
    "В первой строчке выходного файла выведите количество компонент связности. Далее выведите сами компоненты связности в следующем формате: в первой строке количество вершин в компоненте, во второй - сами вершины в произвольном порядке.\n",
    "\n",
    "6 4\\\n",
    "3 1\\\n",
    "1 2\\\n",
    "5 4\\\n",
    "2 3\n",
    "\n",
    "3\\\n",
    "3\\\n",
    "1 2 3 \\\n",
    "2\\\n",
    "4 5 \\\n",
    "1\\\n",
    "6 "
   ]
  },
  {
   "cell_type": "code",
   "execution_count": 17,
   "id": "507f6392",
   "metadata": {
    "scrolled": true
   },
   "outputs": [
    {
     "name": "stdout",
     "output_type": "stream",
     "text": [
      "Overwriting countConnected.py\n"
     ]
    }
   ],
   "source": [
    "%%writefile countConnected.py\n",
    "n, m = [int(x) for x in input().split()]\n",
    "\n",
    "edges = [set() for i in range(n)]\n",
    "\n",
    "for _ in range(m):\n",
    "    a, b = tuple(int(x) - 1 for x in input().split())\n",
    "    edges[a].add(b)\n",
    "    edges[b].add(a)\n",
    "\n",
    "q = []\n",
    "k = 0\n",
    "marks = [-1] * n\n",
    "\n",
    "result = []\n",
    "\n",
    "for i in range(n):\n",
    "    if marks[i] != -1:\n",
    "        continue\n",
    "    \n",
    "    marks[i] = i\n",
    "    result.append([str(i + 1)])\n",
    "    q.append(i)\n",
    "    while len(q) > k:\n",
    "        a = q[k]\n",
    "        k += 1\n",
    "\n",
    "        for b in edges[a]:\n",
    "            if marks[b] == -1:\n",
    "                marks[b] = marks[a]\n",
    "                result[-1].append(str(b + 1))\n",
    "                q.append(b)\n",
    "\n",
    "print(len(result))\n",
    "for i in range(len(result)):\n",
    "    print(len(result[i]))\n",
    "    print(' '.join(result[i]))"
   ]
  }
 ],
 "metadata": {
  "kernelspec": {
   "display_name": "Python 3 (ipykernel)",
   "language": "python",
   "name": "python3"
  },
  "language_info": {
   "codemirror_mode": {
    "name": "ipython",
    "version": 3
   },
   "file_extension": ".py",
   "mimetype": "text/x-python",
   "name": "python",
   "nbconvert_exporter": "python",
   "pygments_lexer": "ipython3",
   "version": "3.10.5"
  }
 },
 "nbformat": 4,
 "nbformat_minor": 5
}
